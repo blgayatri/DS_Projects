{
  "nbformat": 4,
  "nbformat_minor": 0,
  "metadata": {
    "colab": {
      "private_outputs": true,
      "provenance": [],
      "collapsed_sections": [
        "vncDsAP0Gaoa",
        "FJNUwmbgGyua",
        "w6K7xa23Elo4",
        "yQaldy8SH6Dl",
        "mDgbUHAGgjLW",
        "O_i_v8NEhb9l",
        "HhfV-JJviCcP",
        "Y3lxredqlCYt",
        "3RnN4peoiCZX",
        "x71ZqKXriCWQ",
        "7hBIi_osiCS2",
        "JlHwYmJAmNHm",
        "35m5QtbWiB9F",
        "PoPl-ycgm1ru",
        "H0kj-8xxnORC",
        "nA9Y7ga8ng1Z",
        "PBTbrJXOngz2",
        "u3PMJOP6ngxN",
        "dauF4eBmngu3",
        "bKJF3rekwFvQ",
        "MSa1f5Uengrz",
        "GF8Ens_Soomf",
        "0wOQAZs5pc--",
        "K5QZ13OEpz2H",
        "lQ7QKXXCp7Bj",
        "448CDAPjqfQr",
        "KSlN3yHqYklG",
        "t6dVpIINYklI",
        "ijmpgYnKYklI",
        "-JiQyfWJYklI",
        "EM7whBJCYoAo",
        "fge-S5ZAYoAp",
        "85gYPyotYoAp",
        "RoGjAbkUYoAp",
        "4Of9eVA-YrdM",
        "iky9q4vBYrdO",
        "F6T5p64dYrdO",
        "y-Ehk30pYrdP",
        "bamQiAODYuh1",
        "QHF8YVU7Yuh3",
        "GwzvFGzlYuh3",
        "qYpmQ266Yuh3",
        "OH-pJp9IphqM",
        "bbFf2-_FphqN",
        "_ouA3fa0phqN",
        "Seke61FWphqN",
        "PIIx-8_IphqN",
        "t27r6nlMphqO",
        "r2jJGEOYphqO",
        "b0JNsNcRphqO",
        "BZR9WyysphqO",
        "jj7wYXLtphqO",
        "eZrbJ2SmphqO",
        "rFu4xreNphqO",
        "YJ55k-q6phqO",
        "gCFgpxoyphqP",
        "OVtJsKN_phqQ",
        "lssrdh5qphqQ",
        "U2RJ9gkRphqQ",
        "1M8mcRywphqQ",
        "tgIPom80phqQ",
        "JMzcOPDDphqR",
        "x-EpHcCOp1ci",
        "X_VqEhTip1ck",
        "8zGJKyg5p1ck",
        "PVzmfK_Ep1ck",
        "n3dbpmDWp1ck",
        "ylSl6qgtp1ck",
        "ZWILFDl5p1ck",
        "M7G43BXep1ck",
        "Ag9LCva-p1cl",
        "E6MkPsBcp1cl",
        "2cELzS2fp1cl",
        "3MPXvC8up1cl",
        "NC_X3p0fY2L0",
        "UV0SzAkaZNRQ",
        "YPEH6qLeZNRQ",
        "q29F0dvdveiT",
        "EXh0U9oCveiU",
        "22aHeOlLveiV",
        "g-ATYxFrGrvw",
        "Yfr_Vlr8HBkt",
        "8yEUt7NnHlrM",
        "tEA2Xm5dHt1r",
        "I79__PHVH19G",
        "Ou-I18pAyIpj",
        "fF3858GYyt-u",
        "4_0_7-oCpUZd",
        "hwyV_J3ipUZe",
        "3yB-zSqbpUZe",
        "dEUvejAfpUZe",
        "Fd15vwWVpUZf",
        "bn_IUdTipZyH",
        "49K5P_iCpZyH",
        "Nff-vKELpZyI",
        "kLW572S8pZyI",
        "dWbDXHzopZyI",
        "yLjJCtPM0KBk",
        "xiyOF9F70UgQ",
        "7wuGOrhz0itI",
        "id1riN9m0vUs",
        "578E2V7j08f6",
        "89xtkJwZ18nB",
        "67NQN5KX2AMe",
        "Iwf50b-R2tYG",
        "GMQiZwjn3iu7",
        "WVIkgGqN3qsr",
        "XkPnILGE3zoT",
        "Hlsf0x5436Go",
        "mT9DMSJo4nBL",
        "c49ITxTc407N",
        "OeJFEK0N496M",
        "9ExmJH0g5HBk",
        "cJNqERVU536h",
        "k5UmGsbsOxih",
        "T0VqWOYE6DLQ",
        "qBMux9mC6MCf",
        "-oLEiFgy-5Pf",
        "C74aWNz2AliB",
        "2DejudWSA-a0",
        "pEMng2IbBLp7",
        "rAdphbQ9Bhjc",
        "TNVZ9zx19K6k",
        "nqoHp30x9hH9",
        "rMDnDkt2B6du",
        "yiiVWRdJDDil",
        "1UUpS68QDMuG",
        "kexQrXU-DjzY",
        "T5CmagL3EC8N",
        "BhH2vgX9EjGr",
        "qjKvONjwE8ra",
        "P1XJ9OREExlT",
        "VFOzZv6IFROw",
        "TIqpNgepFxVj",
        "VfCC591jGiD4",
        "OB4l2ZhMeS1U",
        "ArJBuiUVfxKd",
        "4qY1EAkEfxKe",
        "PiV4Ypx8fxKe",
        "TfvqoZmBfxKf",
        "dJ2tPlVmpsJ0",
        "JWYfwnehpsJ1",
        "-jK_YjpMpsJ2",
        "HAih1iBOpsJ2",
        "zVGeBEFhpsJ2",
        "bmKjuQ-FpsJ3",
        "Fze-IPXLpx6K",
        "7AN1z2sKpx6M",
        "9PIHJqyupx6M",
        "_-qAgymDpx6N",
        "Z-hykwinpx6N",
        "h_CCil-SKHpo",
        "cBFFvTBNJzUa",
        "HvGl1hHyA_VK",
        "EyNgTHvd2WFk",
        "KH5McJBi2d8v",
        "iW_Lq9qf2h6X",
        "-Kee-DAl2viO",
        "gCX9965dhzqZ",
        "gIfDvo9L0UH2"
      ],
      "include_colab_link": true
    },
    "kernelspec": {
      "name": "python3",
      "display_name": "Python 3"
    },
    "language_info": {
      "name": "python"
    }
  },
  "cells": [
    {
      "cell_type": "markdown",
      "metadata": {
        "id": "view-in-github",
        "colab_type": "text"
      },
      "source": [
        "<a href=\"https://colab.research.google.com/github/blgayatri/DS_Projects/blob/main/Shopper_spectrum_ML_Submission.ipynb\" target=\"_parent\"><img src=\"https://colab.research.google.com/assets/colab-badge.svg\" alt=\"Open In Colab\"/></a>"
      ]
    },
    {
      "cell_type": "markdown",
      "source": [
        "# **Project Name**    - Shopper Spectrum\n",
        "\n"
      ],
      "metadata": {
        "id": "vncDsAP0Gaoa"
      }
    },
    {
      "cell_type": "markdown",
      "source": [
        "**Project Type**: Unsupervised Machine Learning  \n",
        "**Contribution**: Individual  \n",
        "**Team Member**: Lakshmi Gayatri Balivada"
      ],
      "metadata": {
        "id": "beRrZCGUAJYm"
      }
    },
    {
      "cell_type": "markdown",
      "source": [
        "# **Project Summary -**"
      ],
      "metadata": {
        "id": "FJNUwmbgGyua"
      }
    },
    {
      "cell_type": "markdown",
      "source": [
        "This project explores transaction data from an e-commerce platform to:\n",
        "- Segment customers using RFM (Recency, Frequency, Monetary) analysis\n",
        "- Cluster customers using K-Means\n",
        "- Recommend products using collaborative filtering\n",
        "- Deploy a Streamlit interface for interactive analysis"
      ],
      "metadata": {
        "id": "F6v_1wHtG2nS"
      }
    },
    {
      "cell_type": "markdown",
      "source": [
        "# **GitHub Link -**"
      ],
      "metadata": {
        "id": "w6K7xa23Elo4"
      }
    },
    {
      "cell_type": "markdown",
      "source": [
        "https://github.com/blgayatri/Shopper-Spectrum"
      ],
      "metadata": {
        "id": "h1o69JH3Eqqn"
      }
    },
    {
      "cell_type": "markdown",
      "source": [
        "# **Problem Statement**\n"
      ],
      "metadata": {
        "id": "yQaldy8SH6Dl"
      }
    },
    {
      "cell_type": "markdown",
      "source": [
        "### 📌 Problem Statement\n",
        "The global e-commerce industry generates massive volumes of transaction data each day, providing a rich source of insights into customer purchasing behavior. Leveraging this data is crucial for understanding customer preferences, segmenting them effectively, and offering personalized recommendations to boost engagement and sales.\n",
        "\n",
        "This project aims to analyze historical transaction data from an online retail store to:\n",
        "\n",
        "* Identify distinct customer segments using RFM (Recency, Frequency, Monetary) analysis and unsupervised clustering techniques\n",
        "\n",
        "* Build a collaborative filtering-based product recommendation system to suggest similar products based on past purchase behavior\n",
        "\n",
        "The insights and systems developed can be directly applied to:\n",
        "\n",
        "* Personalized marketing\n",
        "\n",
        "* Customer retention strategies\n",
        "\n",
        "* Product cross-selling and upselling\n",
        "\n",
        "* Improved inventory management"
      ],
      "metadata": {
        "id": "DpeJGUA3kjGy"
      }
    },
    {
      "cell_type": "markdown",
      "source": [
        "# **General Guidelines** : -  "
      ],
      "metadata": {
        "id": "mDgbUHAGgjLW"
      }
    },
    {
      "cell_type": "markdown",
      "source": [
        "1.   Well-structured, formatted, and commented code is required.\n",
        "2.   Exception Handling, Production Grade Code & Deployment Ready Code will be a plus. Those students will be awarded some additional credits.\n",
        "     \n",
        "     The additional credits will have advantages over other students during Star Student selection.\n",
        "       \n",
        "             [ Note: - Deployment Ready Code is defined as, the whole .ipynb notebook should be executable in one go\n",
        "                       without a single error logged. ]\n",
        "\n",
        "3.   Each and every logic should have proper comments.\n",
        "4. You may add as many number of charts you want. Make Sure for each and every chart the following format should be answered.\n",
        "        \n",
        "\n",
        "```\n",
        "# Chart visualization code\n",
        "```\n",
        "            \n",
        "\n",
        "*   Why did you pick the specific chart?\n",
        "*   What is/are the insight(s) found from the chart?\n",
        "* Will the gained insights help creating a positive business impact?\n",
        "Are there any insights that lead to negative growth? Justify with specific reason.\n",
        "\n",
        "5. You have to create at least 15 logical & meaningful charts having important insights.\n",
        "\n",
        "\n",
        "[ Hints : - Do the Vizualization in  a structured way while following \"UBM\" Rule.\n",
        "\n",
        "U - Univariate Analysis,\n",
        "\n",
        "B - Bivariate Analysis (Numerical - Categorical, Numerical - Numerical, Categorical - Categorical)\n",
        "\n",
        "M - Multivariate Analysis\n",
        " ]\n",
        "\n",
        "\n",
        "\n",
        "\n",
        "\n",
        "6. You may add more ml algorithms for model creation. Make sure for each and every algorithm, the following format should be answered.\n",
        "\n",
        "\n",
        "*   Explain the ML Model used and it's performance using Evaluation metric Score Chart.\n",
        "\n",
        "\n",
        "*   Cross- Validation & Hyperparameter Tuning\n",
        "\n",
        "*   Have you seen any improvement? Note down the improvement with updates Evaluation metric Score Chart.\n",
        "\n",
        "*   Explain each evaluation metric's indication towards business and the business impact pf the ML model used.\n",
        "\n",
        "\n",
        "\n",
        "\n",
        "\n",
        "\n",
        "\n",
        "\n",
        "\n",
        "\n",
        "\n",
        "\n",
        "\n",
        "\n",
        "\n",
        "\n",
        "\n",
        "\n"
      ],
      "metadata": {
        "id": "ZrxVaUj-hHfC"
      }
    },
    {
      "cell_type": "markdown",
      "source": [
        "# ***Let's Begin !***"
      ],
      "metadata": {
        "id": "O_i_v8NEhb9l"
      }
    },
    {
      "cell_type": "markdown",
      "source": [
        "## ***1. Know Your Data***"
      ],
      "metadata": {
        "id": "HhfV-JJviCcP"
      }
    },
    {
      "cell_type": "markdown",
      "source": [
        "### Import Libraries"
      ],
      "metadata": {
        "id": "Y3lxredqlCYt"
      }
    },
    {
      "cell_type": "code",
      "source": [
        "# Import required libraries\n",
        "import pandas as pd\n",
        "import numpy as np\n",
        "import matplotlib.pyplot as plt\n",
        "import seaborn as sns\n",
        "from sklearn.preprocessing import StandardScaler\n",
        "from sklearn.cluster import KMeans\n",
        "from sklearn.metrics import silhouette_score\n",
        "from sklearn.metrics.pairwise import cosine_similarity\n",
        "import joblib\n",
        "import warnings\n",
        "warnings.filterwarnings(\"ignore\")\n",
        "from google.colab import files\n",
        "\n",
        "# Upload file manually\n",
        "uploaded = files.upload()"
      ],
      "metadata": {
        "id": "M8Vqi-pPk-HR"
      },
      "execution_count": null,
      "outputs": []
    },
    {
      "cell_type": "markdown",
      "source": [
        "### Dataset Loading"
      ],
      "metadata": {
        "id": "3RnN4peoiCZX"
      }
    },
    {
      "cell_type": "code",
      "source": [
        "import pandas as pd\n",
        "\n",
        "# Load dataset (replace with exact uploaded filename)\n",
        "df = pd.read_csv(\"online_retail.csv\", encoding='ISO-8859-1')\n",
        "df.head()"
      ],
      "metadata": {
        "id": "4CkvbW_SlZ_R"
      },
      "execution_count": null,
      "outputs": []
    },
    {
      "cell_type": "markdown",
      "source": [
        "\n",
        "\n",
        "```\n",
        "# This is formatted as code\n",
        "```\n",
        "\n",
        "## ***2. Data Cleaning***"
      ],
      "metadata": {
        "id": "nA9Y7ga8ng1Z"
      }
    },
    {
      "cell_type": "code",
      "source": [
        "# ✅ Remove missing CustomerID\n",
        "df = df.dropna(subset=['CustomerID'])\n",
        "\n",
        "# ✅ Remove cancelled invoices\n",
        "df = df[~df['InvoiceNo'].astype(str).str.startswith('C')]\n",
        "\n",
        "# ✅ Remove negative/zero quantity or price\n",
        "df = df[(df['Quantity'] > 0) & (df['UnitPrice'] > 0)]\n",
        "\n",
        "# ✅ Convert date\n",
        "df['InvoiceDate'] = pd.to_datetime(df['InvoiceDate'])\n",
        "\n",
        "# ✅ Create TotalPrice\n",
        "df['TotalPrice'] = df['Quantity'] * df['UnitPrice']\n",
        "\n",
        "# ✅ Final shape\n",
        "print(\"Final data shape:\", df.shape)\n"
      ],
      "metadata": {
        "id": "j7xfkqrt5Ag5"
      },
      "execution_count": null,
      "outputs": []
    },
    {
      "cell_type": "markdown",
      "source": [
        "## ***4. EDA***\n",
        "\n",
        "> Add blockquote\n",
        "\n"
      ],
      "metadata": {
        "id": "GF8Ens_Soomf"
      }
    },
    {
      "cell_type": "markdown",
      "source": [
        "#### 1. Transactions by Country (excluding UK for contrast)"
      ],
      "metadata": {
        "id": "0wOQAZs5pc--"
      }
    },
    {
      "cell_type": "code",
      "source": [
        "# 🌍 Transactions by Country (Top 10 excluding UK)\n",
        "top_countries = df[df['Country'] != 'United Kingdom']['Country'].value_counts().head(10)\n",
        "\n",
        "plt.figure(figsize=(10, 5))\n",
        "sns.barplot(x=top_countries.values, y=top_countries.index, palette=\"viridis\")\n",
        "plt.title(\"Top 10 Countries by Transaction Volume (excluding UK)\")\n",
        "plt.xlabel(\"Number of Transactions\")\n",
        "plt.ylabel(\"Country\")\n",
        "plt.tight_layout()\n",
        "plt.show()\n"
      ],
      "metadata": {
        "id": "7v_ESjsspbW7"
      },
      "execution_count": null,
      "outputs": []
    },
    {
      "cell_type": "markdown",
      "source": [
        "#### 2. Top Selling Products by Quantity"
      ],
      "metadata": {
        "id": "KSlN3yHqYklG"
      }
    },
    {
      "cell_type": "code",
      "source": [
        "top_products = df.groupby('Description')['Quantity'].sum().sort_values(ascending=False).head(10)\n",
        "\n",
        "plt.figure(figsize=(10, 5))\n",
        "sns.barplot(x=top_products.values, y=top_products.index, palette=\"magma\")\n",
        "plt.title(\"Top 10 Best-Selling Products\")\n",
        "plt.xlabel(\"Quantity Sold\")\n",
        "plt.ylabel(\"Product Description\")\n",
        "plt.show()"
      ],
      "metadata": {
        "id": "R4YgtaqtYklH"
      },
      "execution_count": null,
      "outputs": []
    },
    {
      "cell_type": "markdown",
      "source": [
        "#### 3. Monthly Sales Trend"
      ],
      "metadata": {
        "id": "EM7whBJCYoAo"
      }
    },
    {
      "cell_type": "code",
      "source": [
        "# 📆 Extract Year-Month for trend analysis\n",
        "df['Month'] = df['InvoiceDate'].dt.to_period('M')\n",
        "monthly_sales = df.groupby('Month')['TotalPrice'].sum()\n",
        "\n",
        "plt.figure(figsize=(12, 6))\n",
        "monthly_sales.plot(kind='line', marker='o')\n",
        "plt.title(\"Monthly Revenue Trend\")\n",
        "plt.xlabel(\"Month\")\n",
        "plt.ylabel(\"Revenue (£)\")\n",
        "plt.grid(True)\n",
        "plt.show()"
      ],
      "metadata": {
        "id": "t6GMdE67YoAp"
      },
      "execution_count": null,
      "outputs": []
    },
    {
      "cell_type": "markdown",
      "source": [
        "#### 4. Average Monetary Spend per Transaction"
      ],
      "metadata": {
        "id": "4Of9eVA-YrdM"
      }
    },
    {
      "cell_type": "code",
      "source": [
        "transaction_values = df.groupby('InvoiceNo')['TotalPrice'].sum()\n",
        "\n",
        "plt.figure(figsize=(8, 4))\n",
        "sns.histplot(transaction_values, bins=50, kde=True, color='teal')\n",
        "plt.title(\"Distribution of Transaction Values\")\n",
        "plt.xlabel(\"Transaction Value (£)\")\n",
        "plt.ylabel(\"Frequency\")\n",
        "plt.xlim(0, 1000)\n",
        "plt.show()"
      ],
      "metadata": {
        "id": "irlUoxc8YrdO"
      },
      "execution_count": null,
      "outputs": []
    },
    {
      "cell_type": "markdown",
      "source": [
        "#### 5. Total Spend per Customer"
      ],
      "metadata": {
        "id": "bamQiAODYuh1"
      }
    },
    {
      "cell_type": "code",
      "source": [
        "customer_spend = df.groupby('CustomerID')['TotalPrice'].sum()\n",
        "\n",
        "plt.figure(figsize=(8, 4))\n",
        "sns.histplot(customer_spend, bins=50, kde=True, color='coral')\n",
        "plt.title(\"Distribution of Total Spend per Customer\")\n",
        "plt.xlabel(\"Total Spend (£)\")\n",
        "plt.ylabel(\"Number of Customers\")\n",
        "plt.xlim(0, 3000)\n",
        "plt.show()"
      ],
      "metadata": {
        "id": "TIJwrbroYuh3"
      },
      "execution_count": null,
      "outputs": []
    },
    {
      "cell_type": "markdown",
      "source": [
        "#### 6. Number of Purchases per Customer"
      ],
      "metadata": {
        "id": "OH-pJp9IphqM"
      }
    },
    {
      "cell_type": "code",
      "source": [
        "customer_orders = df.groupby('CustomerID')['InvoiceNo'].nunique()\n",
        "\n",
        "plt.figure(figsize=(8, 4))\n",
        "sns.histplot(customer_orders, bins=30, kde=True, color='steelblue')\n",
        "plt.title(\"Distribution of Number of Purchases per Customer\")\n",
        "plt.xlabel(\"Number of Purchases\")\n",
        "plt.ylabel(\"Number of Customers\")\n",
        "plt.show()"
      ],
      "metadata": {
        "id": "kuRf4wtuphqN"
      },
      "execution_count": null,
      "outputs": []
    },
    {
      "cell_type": "markdown",
      "source": [
        "## ***4. RFM Feature Engineering***"
      ],
      "metadata": {
        "id": "yLjJCtPM0KBk"
      }
    },
    {
      "cell_type": "markdown",
      "source": [
        "### 🎯 RFM Feature Engineering\n",
        "\n",
        "We segment customers using the RFM model:\n",
        "\n",
        "- **Recency**: How recently a customer made a purchase  \n",
        "- **Frequency**: How often they purchase  \n",
        "- **Monetary**: How much money they spend\n",
        "\n",
        "This helps identify high-value, at-risk, and occasional customers."
      ],
      "metadata": {
        "id": "GOGoxESGZrek"
      }
    },
    {
      "cell_type": "markdown",
      "source": [
        "Code Block: RFM Calculation"
      ],
      "metadata": {
        "id": "9YnlZtbgaxyY"
      }
    },
    {
      "cell_type": "code",
      "source": [
        "# 📅 Reference date = 1 day after last invoice\n",
        "import datetime as dt\n",
        "reference_date = df['InvoiceDate'].max() + dt.timedelta(days=1)\n",
        "\n",
        "# 🎯 Aggregate RFM metrics per CustomerID\n",
        "rfm = df.groupby('CustomerID').agg({\n",
        "    'InvoiceDate': lambda x: (reference_date - x.max()).days,   # Recency\n",
        "    'InvoiceNo': 'nunique',                                     # Frequency\n",
        "    'TotalPrice': 'sum'                                         # Monetary\n",
        "}).reset_index()\n",
        "\n",
        "# Rename columns\n",
        "rfm.columns = ['CustomerID', 'Recency', 'Frequency', 'Monetary']\n",
        "\n",
        "# Preview\n",
        "rfm.head()"
      ],
      "metadata": {
        "id": "29B8KLxzay8u"
      },
      "execution_count": null,
      "outputs": []
    },
    {
      "cell_type": "markdown",
      "source": [
        "RFM Value Distribution Chart (7th EDA Plot)"
      ],
      "metadata": {
        "id": "pEvYTlPra9Dx"
      }
    },
    {
      "cell_type": "code",
      "source": [
        "fig, axes = plt.subplots(1, 3, figsize=(18, 5))\n",
        "\n",
        "sns.histplot(rfm['Recency'], ax=axes[0], kde=True, color='slateblue')\n",
        "axes[0].set_title('Recency Distribution')\n",
        "\n",
        "sns.histplot(rfm['Frequency'], ax=axes[1], kde=True, color='green')\n",
        "axes[1].set_title('Frequency Distribution')\n",
        "\n",
        "sns.histplot(rfm['Monetary'], ax=axes[2], kde=True, color='darkorange')\n",
        "axes[2].set_title('Monetary Distribution')\n",
        "\n",
        "plt.tight_layout()\n",
        "plt.show()"
      ],
      "metadata": {
        "id": "SF0-rfK4bF7h"
      },
      "execution_count": null,
      "outputs": []
    },
    {
      "cell_type": "markdown",
      "source": [
        "## ***5. Standardization, Elbow Method & KMeans Clustering***"
      ],
      "metadata": {
        "id": "VfCC591jGiD4"
      }
    },
    {
      "cell_type": "markdown",
      "source": [
        "### Clustering Customers using KMeans\n",
        "\n",
        "We apply KMeans clustering to group customers based on their RFM values. This helps identify meaningful segments like high-value, regular, or at-risk customers."
      ],
      "metadata": {
        "id": "OB4l2ZhMeS1U"
      }
    },
    {
      "cell_type": "markdown",
      "source": [
        "#### 1. Standardize RFM values"
      ],
      "metadata": {
        "id": "ArJBuiUVfxKd"
      }
    },
    {
      "cell_type": "code",
      "source": [
        "from sklearn.preprocessing import StandardScaler\n",
        "\n",
        "scaler = StandardScaler()\n",
        "rfm_scaled = scaler.fit_transform(rfm[['Recency', 'Frequency', 'Monetary']])"
      ],
      "metadata": {
        "id": "rqD5ZohzfxKe"
      },
      "execution_count": null,
      "outputs": []
    },
    {
      "cell_type": "markdown",
      "source": [
        "#### 2. Elbow Method: Find Optimal K"
      ],
      "metadata": {
        "id": "4qY1EAkEfxKe"
      }
    },
    {
      "cell_type": "code",
      "source": [
        "from sklearn.cluster import KMeans\n",
        "import matplotlib.pyplot as plt\n",
        "\n",
        "inertia = []\n",
        "K = range(1, 11)\n",
        "\n",
        "for k in K:\n",
        "    kmeans = KMeans(n_clusters=k, random_state=42)\n",
        "    kmeans.fit(rfm_scaled)\n",
        "    inertia.append(kmeans.inertia_)\n",
        "\n",
        "plt.figure(figsize=(8, 4))\n",
        "plt.plot(K, inertia, marker='o')\n",
        "plt.title(\"Elbow Method to Find Optimal K\")\n",
        "plt.xlabel(\"Number of Clusters\")\n",
        "plt.ylabel(\"Inertia\")\n",
        "plt.grid(True)\n",
        "plt.show()"
      ],
      "metadata": {
        "id": "Dy61ujd6fxKe"
      },
      "execution_count": null,
      "outputs": []
    },
    {
      "cell_type": "markdown",
      "source": [
        "#### 3. Silhouette Score"
      ],
      "metadata": {
        "id": "bmKjuQ-FpsJ3"
      }
    },
    {
      "cell_type": "code",
      "source": [
        "from sklearn.metrics import silhouette_score\n",
        "\n",
        "for k in range(2, 7):\n",
        "    kmeans = KMeans(n_clusters=k, random_state=42)\n",
        "    labels = kmeans.fit_predict(rfm_scaled)\n",
        "    score = silhouette_score(rfm_scaled, labels)\n",
        "    print(f\"Silhouette Score for k={k}: {score:.3f}\")"
      ],
      "metadata": {
        "id": "dbBn1Ij0dhZW"
      },
      "execution_count": null,
      "outputs": []
    },
    {
      "cell_type": "markdown",
      "source": [
        "#### 4. Final Clustering with KMeans"
      ],
      "metadata": {
        "id": "t_EllY4WeBeN"
      }
    },
    {
      "cell_type": "code",
      "source": [
        "kmeans = KMeans(n_clusters=4, random_state=42)\n",
        "rfm['Cluster'] = kmeans.fit_predict(rfm_scaled)"
      ],
      "metadata": {
        "id": "WiM3TcYXeKmj"
      },
      "execution_count": null,
      "outputs": []
    },
    {
      "cell_type": "markdown",
      "source": [
        "5. Interpret and Label Segments"
      ],
      "metadata": {
        "id": "wiOTkFP8eQ_f"
      }
    },
    {
      "cell_type": "code",
      "source": [
        "# Label clusters based on RFM means\n",
        "cluster_profile = rfm.groupby('Cluster').mean().round(2)\n",
        "cluster_profile = cluster_profile.sort_values(by='Monetary', ascending=False)\n",
        "cluster_profile"
      ],
      "metadata": {
        "id": "PZBzQhhxeUzn"
      },
      "execution_count": null,
      "outputs": []
    },
    {
      "cell_type": "code",
      "source": [
        "# Example based on profile table (adjust based on your results)\n",
        "segment_map = {\n",
        "    0: 'Regular',\n",
        "    1: 'At-Risk',\n",
        "    2: 'High-Value',\n",
        "    3: 'Occasional'\n",
        "}\n",
        "rfm['Segment'] = rfm['Cluster'].map(segment_map)\n",
        "rfm.head()"
      ],
      "metadata": {
        "id": "5YArgMRTeaPM"
      },
      "execution_count": null,
      "outputs": []
    },
    {
      "cell_type": "markdown",
      "source": [
        "6. Visualize Clusters (2D)"
      ],
      "metadata": {
        "id": "IOeHDQh-efup"
      }
    },
    {
      "cell_type": "code",
      "source": [
        "plt.figure(figsize=(10, 6))\n",
        "sns.scatterplot(data=rfm, x='Recency', y='Monetary', hue='Segment', palette='Set2', s=100)\n",
        "plt.title('Customer Segments based on Recency and Monetary Value')\n",
        "plt.show()"
      ],
      "metadata": {
        "id": "tnytkmS8ejpz"
      },
      "execution_count": null,
      "outputs": []
    },
    {
      "cell_type": "markdown",
      "source": [
        "## ***Recommendation System – Item-Based Collaborative Filtering***"
      ],
      "metadata": {
        "id": "EyNgTHvd2WFk"
      }
    },
    {
      "cell_type": "markdown",
      "source": [
        "### 🎁 Product Recommendation System using Collaborative Filtering\n",
        "\n",
        "We use item-based collaborative filtering by:\n",
        "- Creating a customer–product matrix\n",
        "- Calculating cosine similarity between products\n",
        "- Recommending 5 most similar products for any selected item"
      ],
      "metadata": {
        "id": "tRELHPNngpQT"
      }
    },
    {
      "cell_type": "markdown",
      "source": [
        "1. Prepare Customer–Product Matrix"
      ],
      "metadata": {
        "id": "KRETZbzVgwD3"
      }
    },
    {
      "cell_type": "code",
      "source": [
        "# Pivot table: rows = CustomerID, columns = Product, values = Quantity\n",
        "product_matrix = df.pivot_table(index='CustomerID', columns='Description', values='Quantity', aggfunc='sum').fillna(0)\n",
        "\n",
        "# Transpose to get item-to-item similarity\n",
        "product_matrix_T = product_matrix.T"
      ],
      "metadata": {
        "id": "MHfp8wx9g0cX"
      },
      "execution_count": null,
      "outputs": []
    },
    {
      "cell_type": "markdown",
      "source": [
        "2. Compute Cosine Similarity Between Products"
      ],
      "metadata": {
        "id": "qQLbMW0khDFH"
      }
    },
    {
      "cell_type": "code",
      "source": [
        "from sklearn.metrics.pairwise import cosine_similarity\n",
        "\n",
        "# Cosine similarity between items\n",
        "similarity_matrix = cosine_similarity(product_matrix_T)\n",
        "\n",
        "# Convert to DataFrame\n",
        "similarity_df = pd.DataFrame(similarity_matrix, index=product_matrix_T.index, columns=product_matrix_T.index)\n",
        "similarity_df.head()"
      ],
      "metadata": {
        "id": "rTAOXAQmhGMF"
      },
      "execution_count": null,
      "outputs": []
    },
    {
      "cell_type": "markdown",
      "source": [
        "Note:"
      ],
      "metadata": {
        "id": "LyPh6CidhU6x"
      }
    },
    {
      "cell_type": "code",
      "source": [
        "df['Description'].unique()[:20]"
      ],
      "metadata": {
        "id": "wOEEE8bjhX8q"
      },
      "execution_count": null,
      "outputs": []
    },
    {
      "cell_type": "markdown",
      "source": [
        "# **Conclusion**"
      ],
      "metadata": {
        "id": "gCX9965dhzqZ"
      }
    },
    {
      "cell_type": "markdown",
      "source": [
        "In this project, we successfully explored and analyzed transactional data from an online retail store to uncover patterns in customer behavior and product preferences.\n",
        "\n",
        "Key accomplishments:\n",
        "\n",
        "* Cleaned and preprocessed real-world e-commerce data by removing missing values, invalid transactions, and negative quantities.\n",
        "\n",
        "* Conducted comprehensive Exploratory Data Analysis (EDA) to identify top-selling products, trends across countries, and purchasing patterns.\n",
        "\n",
        "* Engineered RFM (Recency, Frequency, Monetary) features to quantify customer engagement and value.\n",
        "\n",
        "* Applied KMeans clustering to segment customers into meaningful groups such as High-Value, Regular, Occasional, and At-Risk.\n",
        "\n",
        "* Built a collaborative filtering-based recommendation system using cosine similarity to suggest similar products based on purchase history.\n",
        "\n",
        "* Developed a user-friendly Streamlit web app with two main features:\n",
        "\n",
        "* Product Recommendation Module: Suggests 5 similar items for a given product.\n",
        "\n",
        "* Customer Segmentation Module: Predicts a customer segment based on RFM inputs.\n",
        "\n",
        "This project demonstrates how machine learning and data science can be practically applied in e-commerce for:\n",
        "\n",
        "* Targeted marketing\n",
        "\n",
        "* Personalized customer experience\n",
        "\n",
        "* Customer retention\n",
        "\n",
        "* Inventory and product strategy\n",
        "\n",
        "With further improvements like real-time data integration, hybrid recommender systems, and campaign A/B testing, this solution can be extended for real-world deployment in large-scale retail businesses."
      ],
      "metadata": {
        "id": "Fjb1IsQkh3yE"
      }
    },
    {
      "cell_type": "markdown",
      "source": [
        "### ***Hurrah! You have successfully completed your Machine Learning Capstone Project !!!***"
      ],
      "metadata": {
        "id": "gIfDvo9L0UH2"
      }
    }
  ]
}